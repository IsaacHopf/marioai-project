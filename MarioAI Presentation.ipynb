{
 "cells": [
  {
   "cell_type": "markdown",
   "id": "59eb199a-5f53-4a1d-8606-223266f61c81",
   "metadata": {
    "tags": []
   },
   "source": [
    "# 1. Create the Environment"
   ]
  },
  {
   "cell_type": "code",
   "execution_count": null,
   "id": "1c65762d-02e7-44cb-b001-efd2fd9e5775",
   "metadata": {
    "tags": []
   },
   "outputs": [],
   "source": [
    "import gym_super_mario_bros"
   ]
  },
  {
   "cell_type": "code",
   "execution_count": null,
   "id": "79f2cf2c-e474-4539-b34a-50b3265413ed",
   "metadata": {},
   "outputs": [],
   "source": [
    "env = gym_super_mario_bros.make('SuperMarioBros-v0')"
   ]
  },
  {
   "cell_type": "markdown",
   "id": "f71d7c2a-a29a-4d01-9a53-c07f2338deb6",
   "metadata": {
    "tags": []
   },
   "source": [
    "# 2. Preprocess the Environment"
   ]
  },
  {
   "cell_type": "code",
   "execution_count": null,
   "id": "d5662d11-f386-4511-b507-a9b26c5ea86e",
   "metadata": {
    "tags": []
   },
   "outputs": [],
   "source": [
    "from nes_py.wrappers import JoypadSpace\n",
    "from gym_super_mario_bros.actions import SIMPLE_MOVEMENT\n",
    "from gym.wrappers import GrayScaleObservation\n",
    "from stable_baselines3.common.vec_env import VecFrameStack, DummyVecEnv\n",
    "\n",
    "import matplotlib.pyplot as plt\n",
    "import os\n",
    "os.environ['KMP_DUPLICATE_LIB_OK']='True'"
   ]
  },
  {
   "cell_type": "markdown",
   "id": "ea224976-3600-4ac3-9440-85b4857ad474",
   "metadata": {
    "tags": []
   },
   "source": [
    "### A. Simplify Actions"
   ]
  },
  {
   "cell_type": "code",
   "execution_count": null,
   "id": "d0f87469-9976-4cff-ae3b-bd1a34b2c35c",
   "metadata": {
    "tags": []
   },
   "outputs": [],
   "source": [
    "env.action_space"
   ]
  },
  {
   "cell_type": "code",
   "execution_count": null,
   "id": "54b29379-d88b-4031-8cf3-ff29d2ac37ec",
   "metadata": {
    "tags": []
   },
   "outputs": [],
   "source": [
    "env = JoypadSpace(env, SIMPLE_MOVEMENT)"
   ]
  },
  {
   "cell_type": "code",
   "execution_count": null,
   "id": "b42d3af2-cbd0-4743-aa7a-4e6120968d09",
   "metadata": {
    "tags": []
   },
   "outputs": [],
   "source": [
    "env.action_space"
   ]
  },
  {
   "cell_type": "markdown",
   "id": "c883083a-f881-4bab-81f2-b3976d55a256",
   "metadata": {
    "tags": []
   },
   "source": [
    "### B. Grayscale"
   ]
  },
  {
   "cell_type": "code",
   "execution_count": null,
   "id": "ec8bb1de-ef99-4648-b6e2-ec205953c241",
   "metadata": {
    "tags": []
   },
   "outputs": [],
   "source": [
    "state = env.reset()\n",
    "plt.imshow(state)"
   ]
  },
  {
   "cell_type": "code",
   "execution_count": null,
   "id": "d08557e6-ae3b-450b-9cd6-6ec82028b443",
   "metadata": {},
   "outputs": [],
   "source": [
    "env = GrayScaleObservation(env, keep_dim=True)"
   ]
  },
  {
   "cell_type": "code",
   "execution_count": null,
   "id": "3b63a09c-54c4-441e-92cb-73647e278a73",
   "metadata": {
    "tags": []
   },
   "outputs": [],
   "source": [
    "state = env.reset()\n",
    "plt.imshow(state)"
   ]
  },
  {
   "cell_type": "markdown",
   "id": "1dc0bd34-d322-4d3e-b5d8-cd0106666af4",
   "metadata": {
    "tags": []
   },
   "source": [
    "### C. Vectorize"
   ]
  },
  {
   "cell_type": "code",
   "execution_count": null,
   "id": "e51911f8-82be-4183-91f3-f5489d2b70c9",
   "metadata": {},
   "outputs": [],
   "source": [
    "env = DummyVecEnv([lambda: env])\n",
    "env = VecFrameStack(env, 4, channels_order='last')"
   ]
  },
  {
   "cell_type": "markdown",
   "id": "46292de9-d8a0-4d00-afe0-1ee80b436536",
   "metadata": {
    "tags": []
   },
   "source": [
    "# 3. Create the Agent"
   ]
  },
  {
   "cell_type": "code",
   "execution_count": null,
   "id": "ed00b439-d6e9-4f56-a923-69e5d2f02f6e",
   "metadata": {},
   "outputs": [],
   "source": [
    "from stable_baselines3 import PPO"
   ]
  },
  {
   "cell_type": "code",
   "execution_count": null,
   "id": "0291503e-b280-4f29-899d-d54c3caa5178",
   "metadata": {},
   "outputs": [],
   "source": [
    "model = PPO('CnnPolicy', env, verbose=1)"
   ]
  },
  {
   "cell_type": "markdown",
   "id": "4148e423-de62-4bca-ac8b-10fb984b16cc",
   "metadata": {},
   "source": [
    "# 4. Train the Agent"
   ]
  },
  {
   "cell_type": "code",
   "execution_count": null,
   "id": "1ac9c2c5-31f2-4e52-8d19-afd6bf7d02c6",
   "metadata": {},
   "outputs": [],
   "source": [
    "from stable_baselines3.common.callbacks import CheckpointCallback"
   ]
  },
  {
   "cell_type": "code",
   "execution_count": null,
   "id": "05a28e1b-98cd-484a-b599-e24aaa07c02e",
   "metadata": {},
   "outputs": [],
   "source": [
    "save_path = './Saved Models/'\n",
    "callback = CheckpointCallback(save_freq = 25000, save_path = save_path, name_prefix = 'MarioAI')"
   ]
  },
  {
   "cell_type": "code",
   "execution_count": null,
   "id": "e21dc2ae-9596-4fe5-84f4-7e9a8192f58d",
   "metadata": {
    "tags": []
   },
   "outputs": [],
   "source": [
    "model.learn(total_timesteps=2000000, callback=callback)"
   ]
  },
  {
   "cell_type": "markdown",
   "id": "53793e28-d776-41ac-ba7e-4d8f47251fd0",
   "metadata": {
    "tags": []
   },
   "source": [
    "# 5. Watch Mario at 250,000 Timesteps"
   ]
  },
  {
   "cell_type": "code",
   "execution_count": null,
   "id": "48960da3-3809-4f80-93b7-fcbfdec60603",
   "metadata": {
    "tags": []
   },
   "outputs": [],
   "source": [
    "model = PPO.load('./Saved_Models/Control_250000_steps', env=env)"
   ]
  },
  {
   "cell_type": "code",
   "execution_count": null,
   "id": "d4dddbe1-e054-4533-a3db-c1fd8094e389",
   "metadata": {
    "tags": []
   },
   "outputs": [],
   "source": [
    "state = env.reset()\n",
    "\n",
    "while True:\n",
    "    action, _ = model.predict(state)\n",
    "    state, reward, done, info = env.step(action)\n",
    "    env.render()"
   ]
  },
  {
   "cell_type": "code",
   "execution_count": null,
   "id": "76b5e61b-d536-4417-8091-22f5e007b3d9",
   "metadata": {},
   "outputs": [],
   "source": [
    "env.close()"
   ]
  },
  {
   "cell_type": "markdown",
   "id": "116d1a24-d15b-4d86-a1e5-f56defa5bcd5",
   "metadata": {
    "tags": []
   },
   "source": [
    "# 6. Watch Mario at 6,000,000 Timesteps"
   ]
  },
  {
   "cell_type": "code",
   "execution_count": null,
   "id": "b4dcbd5c-70d7-4347-bbcf-a060ab1207ac",
   "metadata": {},
   "outputs": [],
   "source": [
    "model = PPO.load('./Control/Saved_Models/Control_6000000_steps', env=env)"
   ]
  },
  {
   "cell_type": "code",
   "execution_count": null,
   "id": "6d602eba-f08c-48d7-b506-2f3823c71b45",
   "metadata": {},
   "outputs": [],
   "source": [
    "state = env.reset()\n",
    "\n",
    "while True:\n",
    "    action, _ = model.predict(state)\n",
    "    state, reward, done, info = env.step(action)\n",
    "    env.render()"
   ]
  },
  {
   "cell_type": "code",
   "execution_count": null,
   "id": "82c89625-0606-4aac-b2bb-70b9f6934c17",
   "metadata": {},
   "outputs": [],
   "source": [
    "env.close()"
   ]
  },
  {
   "cell_type": "code",
   "execution_count": null,
   "id": "86c35209-6a4c-4deb-aa8f-1a088e3d483d",
   "metadata": {},
   "outputs": [],
   "source": []
  }
 ],
 "metadata": {
  "kernelspec": {
   "display_name": "Python 3 (ipykernel)",
   "language": "python",
   "name": "python3"
  },
  "language_info": {
   "codemirror_mode": {
    "name": "ipython",
    "version": 3
   },
   "file_extension": ".py",
   "mimetype": "text/x-python",
   "name": "python",
   "nbconvert_exporter": "python",
   "pygments_lexer": "ipython3",
   "version": "3.9.7"
  },
  "toc-showcode": false
 },
 "nbformat": 4,
 "nbformat_minor": 5
}
