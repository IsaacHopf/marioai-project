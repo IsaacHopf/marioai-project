{
 "cells": [
  {
   "cell_type": "markdown",
   "id": "59eb199a-5f53-4a1d-8606-223266f61c81",
   "metadata": {
    "tags": []
   },
   "source": [
    "# 1. Create the Environment"
   ]
  },
  {
   "cell_type": "code",
   "execution_count": null,
   "id": "1c65762d-02e7-44cb-b001-efd2fd9e5775",
   "metadata": {
    "tags": []
   },
   "outputs": [],
   "source": [
    "import gym_super_mario_bros"
   ]
  },
  {
   "cell_type": "code",
   "execution_count": null,
   "id": "79f2cf2c-e474-4539-b34a-50b3265413ed",
   "metadata": {},
   "outputs": [],
   "source": [
    "env = gym_super_mario_bros.make('SuperMarioBros-v0')"
   ]
  },
  {
   "cell_type": "markdown",
   "id": "f71d7c2a-a29a-4d01-9a53-c07f2338deb6",
   "metadata": {
    "tags": []
   },
   "source": [
    "# 2. Preprocess the Environment"
   ]
  },
  {
   "cell_type": "code",
   "execution_count": null,
   "id": "d5662d11-f386-4511-b507-a9b26c5ea86e",
   "metadata": {
    "tags": []
   },
   "outputs": [],
   "source": [
    "from nes_py.wrappers import JoypadSpace\n",
    "from gym_super_mario_bros.actions import SIMPLE_MOVEMENT\n",
    "from gym.wrappers import GrayScaleObservation\n",
    "from stable_baselines3.common.vec_env import VecFrameStack, DummyVecEnv\n"
   ]
  },
  {
   "cell_type": "markdown",
   "id": "ea224976-3600-4ac3-9440-85b4857ad474",
   "metadata": {
    "tags": []
   },
   "source": [
    "### A. Simplify Actions"
   ]
  },
  {
   "cell_type": "code",
   "execution_count": null,
   "id": "54b29379-d88b-4031-8cf3-ff29d2ac37ec",
   "metadata": {
    "tags": []
   },
   "outputs": [],
   "source": [
    "env = JoypadSpace(env, SIMPLE_MOVEMENT)"
   ]
  },
  {
   "cell_type": "markdown",
   "id": "c883083a-f881-4bab-81f2-b3976d55a256",
   "metadata": {
    "tags": []
   },
   "source": [
    "### B. Grayscale"
   ]
  },
  {
   "cell_type": "code",
   "execution_count": null,
   "id": "d08557e6-ae3b-450b-9cd6-6ec82028b443",
   "metadata": {},
   "outputs": [],
   "source": [
    "env = GrayScaleObservation(env, keep_dim=True)"
   ]
  },
  {
   "cell_type": "markdown",
   "id": "1dc0bd34-d322-4d3e-b5d8-cd0106666af4",
   "metadata": {
    "tags": []
   },
   "source": [
    "### C. Vectorize"
   ]
  },
  {
   "cell_type": "code",
   "execution_count": null,
   "id": "e51911f8-82be-4183-91f3-f5489d2b70c9",
   "metadata": {},
   "outputs": [],
   "source": [
    "env = DummyVecEnv([lambda: env])\n",
    "env = VecFrameStack(env, 4, channels_order='last')"
   ]
  },
  {
   "cell_type": "markdown",
   "id": "46292de9-d8a0-4d00-afe0-1ee80b436536",
   "metadata": {
    "tags": []
   },
   "source": [
    "# 3. Create the Agent"
   ]
  },
  {
   "cell_type": "code",
   "execution_count": null,
   "id": "ed00b439-d6e9-4f56-a923-69e5d2f02f6e",
   "metadata": {},
   "outputs": [],
   "source": [
    "from stable_baselines3 import PPO"
   ]
  },
  {
   "cell_type": "code",
   "execution_count": null,
   "id": "0291503e-b280-4f29-899d-d54c3caa5178",
   "metadata": {},
   "outputs": [],
   "source": [
    "model = PPO('CnnPolicy', env, verbose=1)"
   ]
  },
  {
   "cell_type": "markdown",
   "id": "4148e423-de62-4bca-ac8b-10fb984b16cc",
   "metadata": {},
   "source": [
    "# 4. Train the Agent"
   ]
  },
  {
   "cell_type": "code",
   "execution_count": null,
   "id": "1ac9c2c5-31f2-4e52-8d19-afd6bf7d02c6",
   "metadata": {},
   "outputs": [],
   "source": [
    "from stable_baselines3.common.callbacks import CheckpointCallback"
   ]
  },
  {
   "cell_type": "code",
   "execution_count": null,
   "id": "05a28e1b-98cd-484a-b599-e24aaa07c02e",
   "metadata": {},
   "outputs": [],
   "source": [
    "save_path = './Saved Models/'\n",
    "callback = CheckpointCallback(save_freq = 25000, save_path = save_path, name_prefix = 'MarioAI')"
   ]
  },
  {
   "cell_type": "code",
   "execution_count": null,
   "id": "e21dc2ae-9596-4fe5-84f4-7e9a8192f58d",
   "metadata": {
    "tags": []
   },
   "outputs": [],
   "source": [
    "model.learn(total_timesteps=2000000, callback=callback)"
   ]
  },
  {
   "cell_type": "code",
   "execution_count": null,
   "id": "86c35209-6a4c-4deb-aa8f-1a088e3d483d",
   "metadata": {},
   "outputs": [],
   "source": []
  }
 ],
 "metadata": {
  "kernelspec": {
   "display_name": "Python 3 (ipykernel)",
   "language": "python",
   "name": "python3"
  },
  "language_info": {
   "codemirror_mode": {
    "name": "ipython",
    "version": 3
   },
   "file_extension": ".py",
   "mimetype": "text/x-python",
   "name": "python",
   "nbconvert_exporter": "python",
   "pygments_lexer": "ipython3",
   "version": "3.9.7"
  },
  "toc-showcode": false
 },
 "nbformat": 4,
 "nbformat_minor": 5
}
